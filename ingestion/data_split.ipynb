{
 "cells": [
  {
   "cell_type": "code",
   "execution_count": 18,
   "id": "a83bc2ed-fa36-4413-b5f6-97e728ebc880",
   "metadata": {},
   "outputs": [],
   "source": [
    "import csv\n",
    "import pandas as pd\n",
    "import os\n",
    "\n",
    "def split_csv(input_file, output_prefix, rows_per_file):\n",
    "    \"\"\"Splits a CSV file into multiple CSV files based on the number of rows and writes them to the 'good_data' folder.\n",
    "\n",
    "    Args:\n",
    "        input_file: The path to the input CSV file.\n",
    "        output_prefix: The prefix for the output file names.\n",
    "        rows_per_file: The number of rows per output file.\n",
    "    \"\"\"\n",
    "\n",
    "    with open(input_file, 'r') as infile:\n",
    "        reader = csv.reader(infile)\n",
    "        header = next(reader)  # Read the header row\n",
    "        output_file = None\n",
    "        row_count = 0\n",
    "        file_count = 1\n",
    "\n",
    "        for row in reader:\n",
    "            if row_count == 0:\n",
    "                output_file = open(os.path.join(\"good_data\", f\"{output_prefix}_{file_count}.csv\"), 'w', newline='')\n",
    "                writer = csv.writer(output_file)\n",
    "                writer.writerow(header)\n",
    "            writer.writerow(row)\n",
    "            row_count += 1\n",
    "            if row_count == rows_per_file:\n",
    "                output_file.close()\n",
    "                row_count = 0\n",
    "                file_count += 1\n",
    "\n",
    "        if output_file:\n",
    "            output_file.close()\n",
    "\n",
    "def create_directory(directory_name):\n",
    "  \"\"\"Creates a directory if it doesn't exist.\n",
    "\n",
    "  Args:\n",
    "    directory_name: The name of the directory to create.\n",
    "  \"\"\"\n",
    "\n",
    "  if not os.path.exists(directory_name):\n",
    "    os.mkdir(directory_name)\n",
    "    print(f\"Directory '{directory_name}' created successfully.\")\n",
    "  else:\n",
    "    print(f\"Directory '{directory_name}' already exists.\")\n"
   ]
  },
  {
   "cell_type": "code",
   "execution_count": 26,
   "id": "c574757a-501e-480d-9d5b-c202d53488f2",
   "metadata": {},
   "outputs": [
    {
     "name": "stdout",
     "output_type": "stream",
     "text": [
      "Directory 'good_data' already exists.\n"
     ]
    }
   ],
   "source": [
    "create_directory(\"good_data\")"
   ]
  },
  {
   "cell_type": "code",
   "execution_count": 27,
   "id": "14607f13-dfa5-4038-a897-6562abc67b11",
   "metadata": {},
   "outputs": [
    {
     "name": "stdout",
     "output_type": "stream",
     "text": [
      "Directory 'good_data' already exists.\n",
      "Directory 'bad_data' already exists.\n"
     ]
    }
   ],
   "source": [
    "# Example usage\n",
    "#file_ = pd.read_csv('../data/fraudTrain.csv')\n",
    "input_file = '../data/testData.csv'\n",
    "output_prefix = 'split_data'\n",
    "rows_per_file = 1000\n",
    "create_directory(\"good_data\")\n",
    "create_directory(\"bad_data\")\n",
    "split_csv(input_file, output_prefix, rows_per_file)"
   ]
  },
  {
   "cell_type": "code",
   "execution_count": null,
   "id": "66f45953-1658-495e-afd7-41171310a9c1",
   "metadata": {},
   "outputs": [],
   "source": []
  }
 ],
 "metadata": {
  "kernelspec": {
   "display_name": "Python 3 (ipykernel)",
   "language": "python",
   "name": "python3"
  },
  "language_info": {
   "codemirror_mode": {
    "name": "ipython",
    "version": 3
   },
   "file_extension": ".py",
   "mimetype": "text/x-python",
   "name": "python",
   "nbconvert_exporter": "python",
   "pygments_lexer": "ipython3",
   "version": "3.12.4"
  }
 },
 "nbformat": 4,
 "nbformat_minor": 5
}
